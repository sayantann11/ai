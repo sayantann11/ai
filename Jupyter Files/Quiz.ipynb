{
 "cells": [
  {
   "cell_type": "code",
   "execution_count": 18,
   "id": "bb958391",
   "metadata": {},
   "outputs": [],
   "source": [
    "import pandas as pd"
   ]
  },
  {
   "cell_type": "code",
   "execution_count": 19,
   "id": "bbca19d8",
   "metadata": {},
   "outputs": [
    {
     "name": "stdout",
     "output_type": "stream",
     "text": [
      "    ID                      NAME  THRILLER  ANIMATION  ROMANCE  FAMILY  \\\n",
      "0    1  Uri: The Surgical Strike         4          0        0       2   \n",
      "1    2                        PK         0          0        4       5   \n",
      "2    3                      LUDO         2          0        3       3   \n",
      "3    4  Zindagi Na Milegi Dobara         0          0        4       3   \n",
      "4    5    Yeh Jawani Hai Deewani         0          0        5       2   \n",
      "5    6           Dil Dhadakne Do         2          0        3       2   \n",
      "6    7                 Gully Boy         0          0        4       2   \n",
      "7    8                Article 15         5          0        0       0   \n",
      "8    9                      Piku         0          0        3       4   \n",
      "9   10                    Neerja         4          0        1       4   \n",
      "10  11                     NH-10         3          0        2       0   \n",
      "11  12                 Andhadhun         5          0        2       2   \n",
      "12  13                  Badlapur         5          0        3       0   \n",
      "13  14               A Wednesday         4          0        0       2   \n",
      "14  15      Lage Raho Munna Bhai         0          0        2       5   \n",
      "15  16                Hera Pheri         2          0        2       5   \n",
      "16  17                Jab We Met         0          0        5       3   \n",
      "17  18          Taare Zameen Par         0          0        0       5   \n",
      "18  19                  3 Idiots         0          0        4       5   \n",
      "19  20                 Boss Baby         0          5        0       5   \n",
      "20  21        Hotel Transylvania         0          5        3       5   \n",
      "21  22                      Soul         0          4        0       4   \n",
      "22  23             Over The Moon         2          3        3       3   \n",
      "23  24  How To Train Your Dragon         1          5        4       5   \n",
      "24  25             Kung Fu Panda         0          4        0       5   \n",
      "25  26          The Adam Project         4          2        0       3   \n",
      "26  27           Baar Baar Dekho         0          0        3       0   \n",
      "27  28              Koi Mil Gaya         2          2        1       4   \n",
      "28  29                   Arrival         3          0        0       2   \n",
      "29  30                  Free Guy         0          3        4       5   \n",
      "\n",
      "    SCIFICTION  ACTION  DRAMA  COMEDY  \\\n",
      "0            0       5      1       0   \n",
      "1            0       0      2       5   \n",
      "2            0       1      3       2   \n",
      "3            0       3      0       4   \n",
      "4            0       0      5       3   \n",
      "5            0       0      4       3   \n",
      "6            0       3      5       2   \n",
      "7            0       2      4       0   \n",
      "8            0       0      5       4   \n",
      "9            0       3      3       0   \n",
      "10           0       4      1       0   \n",
      "11           0       5      2       0   \n",
      "12           0       5      3       0   \n",
      "13           0       3      2       0   \n",
      "14           0       1      4       5   \n",
      "15           0       1      3       5   \n",
      "16           0       0      5       2   \n",
      "17           0       0      4       5   \n",
      "18           0       0      5       5   \n",
      "19           0       0      1       5   \n",
      "20           0       1      2       4   \n",
      "21           0       0      3       1   \n",
      "22           0       2      4       4   \n",
      "23           0       3      0       4   \n",
      "24           0       3      2       5   \n",
      "25           5       2      0       3   \n",
      "26           4       0      5       0   \n",
      "27           3       0      3       2   \n",
      "28           5       0      2       0   \n",
      "29           2       1      0       5   \n",
      "\n",
      "                                                 LINK  \n",
      "0        https://static.toiimg.com/photo/65989074.cms  \n",
      "1   http://static.financialexpress.com/m-images/M_...  \n",
      "2   https://m.media-amazon.com/images/M/MV5BOTQwOT...  \n",
      "3   https://m.media-amazon.com/images/M/MV5BZGFmMj...  \n",
      "4   https://stat1.bollywoodhungama.in/wp-content/u...  \n",
      "5   https://stat2.bollywoodhungama.in/wp-content/u...  \n",
      "6   https://m.media-amazon.com/images/M/MV5BZDkzMT...  \n",
      "7   https://m.media-amazon.com/images/M/MV5BZTI2NT...  \n",
      "8   https://m.media-amazon.com/images/M/MV5BMTUwOT...  \n",
      "9   https://m.media-amazon.com/images/M/MV5BZDhjM2...  \n",
      "10  https://m.media-amazon.com/images/M/MV5BOTUyMz...  \n",
      "11  https://m.media-amazon.com/images/M/MV5BZWZhMj...  \n",
      "12  https://m.media-amazon.com/images/M/MV5BMmIzOW...  \n",
      "13  https://m.media-amazon.com/images/M/MV5BOTcwMz...  \n",
      "14  https://cdn.shopify.com/s/files/1/0969/9128/pr...  \n",
      "15  https://m.media-amazon.com/images/M/MV5BNDExMT...  \n",
      "16  https://upload.wikimedia.org/wikipedia/en/9/9f...  \n",
      "17  https://upload.wikimedia.org/wikipedia/en/b/b4...  \n",
      "18  https://m.media-amazon.com/images/M/MV5BNTkyOG...  \n",
      "19  https://m.media-amazon.com/images/M/MV5BMTg5Mz...  \n",
      "20  https://m.media-amazon.com/images/M/MV5BMTM3Nj...  \n",
      "21  https://m.media-amazon.com/images/M/MV5BZGE1MD...  \n",
      "22  https://m.media-amazon.com/images/M/MV5BNTI0Zj...  \n",
      "23  https://m.media-amazon.com/images/M/MV5BMjA5ND...  \n",
      "24  https://m.media-amazon.com/images/M/MV5BODJkZT...  \n",
      "25  https://m.media-amazon.com/images/M/MV5BOWM0YW...  \n",
      "26  https://m.media-amazon.com/images/M/MV5BOWVmND...  \n",
      "27  https://m.media-amazon.com/images/M/MV5BMTA4MT...  \n",
      "28  https://m.media-amazon.com/images/M/MV5BMTExMz...  \n",
      "29  https://m.media-amazon.com/images/M/MV5BOTY2Nz...  \n"
     ]
    }
   ],
   "source": [
    "quiz=pd.DataFrame(pd.read_excel('buzzfeed_data.xlsx'))\n",
    "print(quiz)"
   ]
  },
  {
   "cell_type": "code",
   "execution_count": 20,
   "id": "f8f5fbb6",
   "metadata": {},
   "outputs": [
    {
     "data": {
      "text/plain": [
       "'https://static.toiimg.com/photo/65989074.cms'"
      ]
     },
     "execution_count": 20,
     "metadata": {},
     "output_type": "execute_result"
    }
   ],
   "source": [
    "quiz['LINK'][0]"
   ]
  },
  {
   "cell_type": "code",
   "execution_count": 21,
   "id": "7fb1bec4",
   "metadata": {},
   "outputs": [],
   "source": [
    "import pickle\n",
    "pickle.dump(quiz, open('quiz_data.pkl', 'wb'))"
   ]
  },
  {
   "cell_type": "code",
   "execution_count": 9,
   "id": "38ab86ac",
   "metadata": {},
   "outputs": [
    {
     "data": {
      "text/plain": [
       "5"
      ]
     },
     "execution_count": 9,
     "metadata": {},
     "output_type": "execute_result"
    }
   ],
   "source": [
    "quiz['ACTION'][0]"
   ]
  },
  {
   "cell_type": "code",
   "execution_count": 22,
   "id": "f56dae6d",
   "metadata": {},
   "outputs": [],
   "source": [
    "#MAP FEATURE\n",
    "import pickle\n",
    "\n",
    "indian_map = pd.read_csv('india.csv')\n",
    "pickle.dump(indian_map, open('indian_map.pkl', 'wb'))"
   ]
  },
  {
   "cell_type": "code",
   "execution_count": null,
   "id": "d3604ba7",
   "metadata": {},
   "outputs": [],
   "source": []
  }
 ],
 "metadata": {
  "kernelspec": {
   "display_name": "Python 3",
   "language": "python",
   "name": "python3"
  },
  "language_info": {
   "codemirror_mode": {
    "name": "ipython",
    "version": 3
   },
   "file_extension": ".py",
   "mimetype": "text/x-python",
   "name": "python",
   "nbconvert_exporter": "python",
   "pygments_lexer": "ipython3",
   "version": "3.8.8"
  }
 },
 "nbformat": 4,
 "nbformat_minor": 5
}
