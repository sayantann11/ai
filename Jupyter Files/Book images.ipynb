{
 "cells": [
  {
   "cell_type": "code",
   "execution_count": 1,
   "id": "4bede8b1",
   "metadata": {},
   "outputs": [],
   "source": [
    "import numpy as np\n",
    "import pandas as pd\n",
    "import pickle"
   ]
  },
  {
   "cell_type": "code",
   "execution_count": 2,
   "id": "cf3280d1",
   "metadata": {},
   "outputs": [],
   "source": [
    "book_images = pd.read_csv('book_images.csv')"
   ]
  },
  {
   "cell_type": "code",
   "execution_count": 3,
   "id": "ecd31eac",
   "metadata": {},
   "outputs": [
    {
     "name": "stdout",
     "output_type": "stream",
     "text": [
      "<class 'pandas.core.frame.DataFrame'>\n",
      "RangeIndex: 32581 entries, 0 to 32580\n",
      "Data columns (total 11 columns):\n",
      " #   Column                 Non-Null Count  Dtype  \n",
      "---  ------                 --------------  -----  \n",
      " 0   l                      32581 non-null  object \n",
      " 1   name                   32581 non-null  object \n",
      " 2   author                 32383 non-null  object \n",
      " 3   format                 32548 non-null  object \n",
      " 4   book_depository_stars  32581 non-null  float64\n",
      " 5   price                  32581 non-null  object \n",
      " 6   currency               32581 non-null  object \n",
      " 7   old_price              27467 non-null  float64\n",
      " 8   isbn                   32581 non-null  float64\n",
      " 9   category               32581 non-null  object \n",
      " 10  img_paths              32581 non-null  object \n",
      "dtypes: float64(3), object(8)\n",
      "memory usage: 2.7+ MB\n"
     ]
    }
   ],
   "source": [
    "book_images.info()"
   ]
  },
  {
   "cell_type": "code",
   "execution_count": 4,
   "id": "830212fe",
   "metadata": {},
   "outputs": [
    {
     "data": {
      "text/html": [
       "<div>\n",
       "<style scoped>\n",
       "    .dataframe tbody tr th:only-of-type {\n",
       "        vertical-align: middle;\n",
       "    }\n",
       "\n",
       "    .dataframe tbody tr th {\n",
       "        vertical-align: top;\n",
       "    }\n",
       "\n",
       "    .dataframe thead th {\n",
       "        text-align: right;\n",
       "    }\n",
       "</style>\n",
       "<table border=\"1\" class=\"dataframe\">\n",
       "  <thead>\n",
       "    <tr style=\"text-align: right;\">\n",
       "      <th></th>\n",
       "      <th>l</th>\n",
       "      <th>name</th>\n",
       "      <th>author</th>\n",
       "    </tr>\n",
       "  </thead>\n",
       "  <tbody>\n",
       "    <tr>\n",
       "      <th>0</th>\n",
       "      <td>https://d1w7fb2mkkr3kw.cloudfront.net/assets/i...</td>\n",
       "      <td>This is Going to Hurt</td>\n",
       "      <td>Adam Kay</td>\n",
       "    </tr>\n",
       "    <tr>\n",
       "      <th>1</th>\n",
       "      <td>https://d1w7fb2mkkr3kw.cloudfront.net/assets/i...</td>\n",
       "      <td>Thinking, Fast and Slow</td>\n",
       "      <td>Daniel Kahneman</td>\n",
       "    </tr>\n",
       "    <tr>\n",
       "      <th>2</th>\n",
       "      <td>https://d1w7fb2mkkr3kw.cloudfront.net/assets/i...</td>\n",
       "      <td>When Breath Becomes Air</td>\n",
       "      <td>Paul Kalanithi</td>\n",
       "    </tr>\n",
       "    <tr>\n",
       "      <th>3</th>\n",
       "      <td>https://d1w7fb2mkkr3kw.cloudfront.net/assets/i...</td>\n",
       "      <td>The Happiness Trap</td>\n",
       "      <td>Russ Harris</td>\n",
       "    </tr>\n",
       "    <tr>\n",
       "      <th>4</th>\n",
       "      <td>https://d1w7fb2mkkr3kw.cloudfront.net/assets/i...</td>\n",
       "      <td>Man's Search For Meaning</td>\n",
       "      <td>Viktor E. Frankl</td>\n",
       "    </tr>\n",
       "  </tbody>\n",
       "</table>\n",
       "</div>"
      ],
      "text/plain": [
       "                                                   l  \\\n",
       "0  https://d1w7fb2mkkr3kw.cloudfront.net/assets/i...   \n",
       "1  https://d1w7fb2mkkr3kw.cloudfront.net/assets/i...   \n",
       "2  https://d1w7fb2mkkr3kw.cloudfront.net/assets/i...   \n",
       "3  https://d1w7fb2mkkr3kw.cloudfront.net/assets/i...   \n",
       "4  https://d1w7fb2mkkr3kw.cloudfront.net/assets/i...   \n",
       "\n",
       "                       name            author  \n",
       "0     This is Going to Hurt          Adam Kay  \n",
       "1   Thinking, Fast and Slow   Daniel Kahneman  \n",
       "2   When Breath Becomes Air    Paul Kalanithi  \n",
       "3        The Happiness Trap       Russ Harris  \n",
       "4  Man's Search For Meaning  Viktor E. Frankl  "
      ]
     },
     "execution_count": 4,
     "metadata": {},
     "output_type": "execute_result"
    }
   ],
   "source": [
    "book_images=book_images[['l', 'name', 'author']]\n",
    "book_images.head()"
   ]
  },
  {
   "cell_type": "code",
   "execution_count": 5,
   "id": "d11b04b6",
   "metadata": {},
   "outputs": [],
   "source": [
    "pickle.dump(book_images, open('book_images_dict.pkl', 'wb'))"
   ]
  },
  {
   "cell_type": "code",
   "execution_count": 8,
   "id": "263a82ce",
   "metadata": {},
   "outputs": [
    {
     "data": {
      "text/plain": [
       "str"
      ]
     },
     "execution_count": 8,
     "metadata": {},
     "output_type": "execute_result"
    }
   ],
   "source": [
    "type(book_images['name'][0])"
   ]
  },
  {
   "cell_type": "code",
   "execution_count": null,
   "id": "be90c9ca",
   "metadata": {},
   "outputs": [],
   "source": []
  }
 ],
 "metadata": {
  "kernelspec": {
   "display_name": "Python 3",
   "language": "python",
   "name": "python3"
  },
  "language_info": {
   "codemirror_mode": {
    "name": "ipython",
    "version": 3
   },
   "file_extension": ".py",
   "mimetype": "text/x-python",
   "name": "python",
   "nbconvert_exporter": "python",
   "pygments_lexer": "ipython3",
   "version": "3.8.8"
  }
 },
 "nbformat": 4,
 "nbformat_minor": 5
}
